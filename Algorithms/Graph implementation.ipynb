{
 "cells": [
  {
   "cell_type": "code",
   "execution_count": null,
   "metadata": {},
   "outputs": [],
   "source": [
    "class Graph:\n",
    "    graph=[]\n",
    "    vertices_no=0\n",
    "    def add_vertex(v):\n",
    "        if v in graph:\n",
    "            print(\"Vertex \", v, \" already exists.\")\n",
    "        else:\n",
    "            vertices_no = vertices_no + 1\n",
    "            graph[v] = []\n",
    "    # add edge e Between two vertices v1,v2 \n",
    "    def add_edge(v1, v2, e):\n",
    "        global graph\n",
    "        #check if the two vertices existed in the graph\n",
    "        if v1 not in graph:\n",
    "            print(\"Vertex \", v1, \" does not exist.\")\n",
    "        elif v2 not in graph:\n",
    "            print(\"Vertex \", v2, \" does not exist.\")\n",
    "        else:\n",
    "            temp = [v2, e]\n",
    "            graph[v1].append(temp)\n",
    "\n",
    "    # Print the graph\n",
    "    def print_graph():\n",
    "        for vertex in graph:\n",
    "            for edges in graph[vertex]:\n",
    "                print(vertex, \" -> \", edges[0], \" edge weight: \", edges[1])\n",
    "\n",
    "# denotes the edge weight.\n",
    "print (\"Internal representation: \", graph)"
   ]
  },
  {
   "cell_type": "code",
   "execution_count": null,
   "metadata": {},
   "outputs": [],
   "source": [
    "# driver code\n",
    "graph = {}\n",
    "# stores the number of vertices in the graph\n",
    "vertices_no = 0\n",
    "add_vertex(1)\n",
    "add_vertex(2)\n",
    "add_vertex(3)\n",
    "add_vertex(4)\n",
    "# Add the edges between the vertices by specifying\n",
    "# the from and to vertex along with the edge weights.\n",
    "add_edge(1, 2, 1)\n",
    "add_edge(1, 3, 1)\n",
    "add_edge(2, 3, 3)\n",
    "add_edge(3, 4, 4)\n",
    "add_edge(4, 1, 5)\n",
    "print_graph()\n",
    "# Reminder: the second element of each li"
   ]
  }
 ],
 "metadata": {
  "kernelspec": {
   "display_name": "Python 3",
   "language": "python",
   "name": "python3"
  },
  "language_info": {
   "codemirror_mode": {
    "name": "ipython",
    "version": 3
   },
   "file_extension": ".py",
   "mimetype": "text/x-python",
   "name": "python",
   "nbconvert_exporter": "python",
   "pygments_lexer": "ipython3",
   "version": "3.8.5"
  }
 },
 "nbformat": 4,
 "nbformat_minor": 4
}
