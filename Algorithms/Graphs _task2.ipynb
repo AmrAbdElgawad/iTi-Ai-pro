{
 "cells": [
  {
   "cell_type": "code",
   "execution_count": 1,
   "metadata": {},
   "outputs": [
    {
     "name": "stdout",
     "output_type": "stream",
     "text": [
      "kruskal spanning tree is :  [('c', 'd', {'weight': 0.1}), ('a', 'c', {'weight': 0.2}), ('a', 'b', {'weight': 0.6}), ('c', 'e', {'weight': 0.7}), ('c', 'f', {'weight': 0.9})]\n",
      "\n",
      "\n",
      "prim spannin tree is :  [('c', 'd', {'weight': 0.1}), ('c', 'a', {'weight': 0.2}), ('a', 'b', {'weight': 0.6}), ('c', 'e', {'weight': 0.7}), ('c', 'f', {'weight': 0.9})]\n",
      "\n",
      "\n",
      "shortest path is :  ['b', 'a', 'c', 'e']\n"
     ]
    },
    {
     "data": {
      "image/png": "[encoded data removed]",
      "text/plain": [
       "<Figure size 432x288 with 1 Axes>"
      ]
     },
     "metadata": {},
     "output_type": "display_data"
    }
   ],
   "source": [
    "import matplotlib.pyplot as plt\n",
    "import networkx as nx\n",
    "\n",
    "G = nx.Graph()\n",
    "G.add_edge(\"a\", \"b\", weight=0.6)\n",
    "G.add_edge(\"a\", \"c\", weight=0.2)\n",
    "G.add_edge(\"c\", \"d\", weight=0.1)\n",
    "G.add_edge(\"c\", \"e\", weight=0.7)\n",
    "G.add_edge(\"c\", \"f\", weight=0.9)\n",
    "G.add_edge(\"a\", \"d\", weight=0.3)\n",
    "\n",
    "\n",
    "pos=nx.spring_layout(G)\n",
    "nx.draw_networkx(G,pos)\n",
    "labels = nx.get_edge_attributes(G,'weight')\n",
    "nx.draw_networkx_edge_labels(G,pos,edge_labels=labels)\n",
    "print(\"kruskal spanning tree is : \",list(nx.minimum_spanning_edges(G,algorithm='kruskal')))\n",
    "print('\\n')\n",
    "print(\"prim spannin tree is : \",list(nx.minimum_spanning_edges(G,algorithm='prim')))\n",
    "print('\\n')\n",
    "print(\"shortest path is : \",list(nx.dijkstra_path(G,source='b',target='e')))\n"
   ]
  },
  {
   "cell_type": "code",
   "execution_count": null,
   "metadata": {},
   "outputs": [],
   "source": []
  },
  {
   "cell_type": "code",
   "execution_count": null,
   "metadata": {
    "scrolled": true
   },
   "outputs": [],
   "source": []
  },
  {
   "cell_type": "code",
   "execution_count": null,
   "metadata": {},
   "outputs": [],
   "source": []
  },
  {
   "cell_type": "code",
   "execution_count": null,
   "metadata": {},
   "outputs": [],
   "source": []
  },
  {
   "cell_type": "code",
   "execution_count": null,
   "metadata": {},
   "outputs": [],
   "source": []
  },
  {
   "cell_type": "code",
   "execution_count": null,
   "metadata": {},
   "outputs": [],
   "source": []
  }
 ],
 "metadata": {
  "kernelspec": {
   "display_name": "Python 3",
   "language": "python",
   "name": "python3"
  },
  "language_info": {
   "codemirror_mode": {
    "name": "ipython",
    "version": 3
   },
   "file_extension": ".py",
   "mimetype": "text/x-python",
   "name": "python",
   "nbconvert_exporter": "python",
   "pygments_lexer": "ipython3",
   "version": "3.8.5"
  }
 },
 "nbformat": 4,
 "nbformat_minor": 4
}
