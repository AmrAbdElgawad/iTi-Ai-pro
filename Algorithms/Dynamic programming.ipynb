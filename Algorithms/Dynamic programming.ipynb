{
 "cells": [
  {
   "cell_type": "markdown",
   "metadata": {},
   "source": [
    "# Fibonacci  using dynamic programming "
   ]
  },
  {
   "cell_type": "code",
   "execution_count": 2,
   "metadata": {
    "scrolled": true
   },
   "outputs": [
    {
     "name": "stdout",
     "output_type": "stream",
     "text": [
      "enter number : 10\n",
      "the fib of  10  is:  55\n"
     ]
    }
   ],
   "source": [
    "def fib_dynamic(n,arr):\n",
    "    if arr[n]!=None:\n",
    "        return arr[n]\n",
    "    if n==0:\n",
    "        return 0\n",
    "    if n==1:\n",
    "        return 1\n",
    "    else:\n",
    "        result=int(fib_dynamic(n-1,arr))+int(fib_dynamic(n-2,arr))\n",
    "        arr[n]=result\n",
    "        return arr[n]\n",
    "    \n",
    "n=int(input(\"enter number : \"))   \n",
    "ar=[None]*(n+1)\n",
    "print (\"the fib of \",n,\" is: \",fib_dynamic(n,ar))\n"
   ]
  },
  {
   "cell_type": "markdown",
   "metadata": {},
   "source": [
    "# Knapsack using dynamic programming"
   ]
  },
  {
   "cell_type": "code",
   "execution_count": 44,
   "metadata": {},
   "outputs": [
    {
     "data": {
      "text/plain": [
       "[[0, 0, 0, 0, 0, 0, 0, 0, 0],\n",
       " [0, 0, 0, 0, 0, 0, 0, 0, 0],\n",
       " [0, 0, 0, 0, 0, 0, 0, 0, 0],\n",
       " [0, 0, 0, 0, 0, 0, 0, 0, 0],\n",
       " [0, 0, 0, 0, 0, 0, 0, 0, 0]]"
      ]
     },
     "execution_count": 44,
     "metadata": {},
     "output_type": "execute_result"
    }
   ],
   "source": [
    "#notes\n",
    "# creat 2d array of weight columns * items in rows\n",
    "#number of rows is start from 0\n",
    "#columns is max weight\n",
    "#take the elemnt or not to take it add it in the intersection location\n",
    "# if nottaking it take from the previous row in same column\n",
    "#check if take one or two items take the maxprofit and less than the max weight\n",
    "#if weight is greater than max weight but result from previous row\n",
    "#else if weight is less than the max\n",
    "\n",
    "weights=[3,4,6,5]\n",
    "values=[2,3,1,4]\n",
    "maxw=8\n",
    "n=4\n",
    "def knapsack(weights,values,maxw,n):\n",
    "    for i in range(n):\n",
    "        for j in range(maxw):\n",
    "            if weights[i]>j:\n",
    "                memo[i][j]=0\n",
    "            else:\n",
    "                if values[i]>memo[i][j]:\n",
    "                    memo[i][j]=memo[i-1][j]\n",
    "                else:\n",
    "                    memo[i][j]=max(memo[i][j],memo[i-1][j-weight[i-1]]+values[j-weight[i-1]] )\n",
    "    \n",
    "    return memo\n",
    "   \n",
    "    \n",
    "knapsack(weights,values,maxw,n)"
   ]
  },
  {
   "cell_type": "code",
   "execution_count": null,
   "metadata": {},
   "outputs": [],
   "source": [
    "#greedy \n",
    "# Dynamic\n",
    "# bruteforce\n"
   ]
  },
  {
   "cell_type": "code",
   "execution_count": 58,
   "metadata": {},
   "outputs": [
    {
     "name": "stdout",
     "output_type": "stream",
     "text": [
      "6\n"
     ]
    }
   ],
   "source": [
    "\n",
    "#Dynamic\n",
    "\n",
    "def dynamic_knapSack_iterative(maxW, wt, val, n):\n",
    "    memo=[[0]*(W+1)]*(n+1)\n",
    "    for i in range(n + 1):\n",
    "        for j in range(maxW + 1):\n",
    "            if i == 0 or j == 0:\n",
    "                memo[i][j] = 0\n",
    "        \n",
    "            elif wt[i-1] <= j:\n",
    "                memo[i][j] = max(val[i-1]\n",
    "                          + memo[i-1][j-wt[i-1]], \n",
    "                              memo[i-1][j])\n",
    "            else:\n",
    "                memo[i][j] = memo[i-1][j]\n",
    " \n",
    "    return memo[n][maxW]\n",
    "\n",
    "weights=[3,4,6,5]\n",
    "values=[2,3,1,4]\n",
    "maxw=8\n",
    "n=4\n",
    "print(knapSack(maxw, weights, values, n))\n",
    " "
   ]
  },
  {
   "cell_type": "code",
   "execution_count": null,
   "metadata": {},
   "outputs": [],
   "source": []
  }
 ],
 "metadata": {
  "kernelspec": {
   "display_name": "Python 3",
   "language": "python",
   "name": "python3"
  },
  "language_info": {
   "codemirror_mode": {
    "name": "ipython",
    "version": 3
   },
   "file_extension": ".py",
   "mimetype": "text/x-python",
   "name": "python",
   "nbconvert_exporter": "python",
   "pygments_lexer": "ipython3",
   "version": "3.8.5"
  }
 },
 "nbformat": 4,
 "nbformat_minor": 4
}
