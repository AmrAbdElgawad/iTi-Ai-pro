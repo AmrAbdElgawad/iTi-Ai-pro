{
 "cells": [
  {
   "cell_type": "markdown",
   "metadata": {},
   "source": [
    "# Factorial Iterative\n"
   ]
  },
  {
   "cell_type": "code",
   "execution_count": 5,
   "metadata": {},
   "outputs": [
    {
     "data": {
      "text/plain": [
       "120"
      ]
     },
     "execution_count": 5,
     "metadata": {},
     "output_type": "execute_result"
    }
   ],
   "source": [
    "def iterative_fact(n):\n",
    "    fact =1\n",
    "    for i in range(1, n+1):\n",
    "        fact=i*fact\n",
    "    return fact\n",
    "iterative_fact(5)"
   ]
  },
  {
   "cell_type": "markdown",
   "metadata": {},
   "source": [
    "# Recursive Factorial\n"
   ]
  },
  {
   "cell_type": "code",
   "execution_count": 83,
   "metadata": {},
   "outputs": [
    {
     "data": {
      "text/plain": [
       "120"
      ]
     },
     "execution_count": 83,
     "metadata": {},
     "output_type": "execute_result"
    }
   ],
   "source": [
    "def fact(n):\n",
    "    if n<=1:\n",
    "        return 1\n",
    "    return  n*fact(n-1)\n",
    "fact(5)"
   ]
  },
  {
   "cell_type": "markdown",
   "metadata": {},
   "source": [
    "# Bonus Question Tail recursive Factorial"
   ]
  },
  {
   "cell_type": "code",
   "execution_count": 15,
   "metadata": {},
   "outputs": [
    {
     "data": {
      "text/plain": [
       "120"
      ]
     },
     "execution_count": 15,
     "metadata": {},
     "output_type": "execute_result"
    }
   ],
   "source": [
    "def fact(n,m=1):\n",
    "    if n<=1:\n",
    "        return m\n",
    "    return  fact(n-1,n*m)\n",
    "fact(5)"
   ]
  },
  {
   "cell_type": "markdown",
   "metadata": {},
   "source": [
    "# Fibonacci Iterative\n"
   ]
  },
  {
   "cell_type": "code",
   "execution_count": 73,
   "metadata": {},
   "outputs": [
    {
     "name": "stdout",
     "output_type": "stream",
     "text": [
      "enter number : 10\n",
      "Fibonacci of 10 is : 55\n"
     ]
    }
   ],
   "source": [
    "def fib(n):\n",
    "    if n ==0:\n",
    "        return 0\n",
    "    if n==1:\n",
    "        return 1\n",
    "    n1,n2=0,1\n",
    "    for i in range(n-1):\n",
    "        tmp=n1+n2\n",
    "        n1=n2\n",
    "        n2=tmp\n",
    "    return tmp\n",
    "\n",
    "n=int(input(\"enter number : \"))\n",
    "print ('Fibonacci of {} is : {}'.format(n,fib(n))) \n"
   ]
  },
  {
   "cell_type": "markdown",
   "metadata": {},
   "source": [
    "# Fibonacci Recursion"
   ]
  },
  {
   "cell_type": "code",
   "execution_count": 72,
   "metadata": {},
   "outputs": [
    {
     "name": "stdout",
     "output_type": "stream",
     "text": [
      "enter number : 20\n",
      "Fibonacci of 20 is : 6765\n"
     ]
    }
   ],
   "source": [
    "def fib_rec(n):\n",
    "    if n==0:\n",
    "        return 0\n",
    "    if n==1:\n",
    "        return 1\n",
    "    return fib_rec(n-1)+fib_rec(n-2)\n",
    "n=int(input(\"enter number : \"))\n",
    "print ('Fibonacci of {} is : {}'.format(n,fib_rec(n)))"
   ]
  },
  {
   "cell_type": "markdown",
   "metadata": {},
   "source": [
    "#  Bonus Question Tail Recursion Fibonacci"
   ]
  },
  {
   "cell_type": "code",
   "execution_count": null,
   "metadata": {},
   "outputs": [],
   "source": []
  },
  {
   "cell_type": "markdown",
   "metadata": {},
   "source": [
    "# Iterative Linear Search"
   ]
  },
  {
   "cell_type": "code",
   "execution_count": 199,
   "metadata": {},
   "outputs": [
    {
     "name": "stdout",
     "output_type": "stream",
     "text": [
      "element 3 found in the array at index :2\n"
     ]
    }
   ],
   "source": [
    "def linear_search(elemnt,arr):\n",
    "    for i in range (len(arr)):\n",
    "        if elemnt==arr[i]:\n",
    "            return arr[i],i\n",
    "    else:\n",
    "        return -1\n",
    "\n",
    "            \n",
    "            \n",
    "tmp=linear_search(3,[1,4,3,5,6]) \n",
    "\n",
    "if tmp!=-1:\n",
    "    print(\"element {} found in the array at index :{}\".format(tmp[0],tmp[1]))\n",
    "else:\n",
    "    print(\"element not found in the list\")\n"
   ]
  },
  {
   "cell_type": "markdown",
   "metadata": {},
   "source": [
    "# Recursion linear search"
   ]
  },
  {
   "cell_type": "code",
   "execution_count": 218,
   "metadata": {},
   "outputs": [
    {
     "name": "stdout",
     "output_type": "stream",
     "text": [
      "element 5 found in the array at index :3\n"
     ]
    }
   ],
   "source": [
    "# i is the start index of the array\n",
    "def recursive_linear_search(elemnt,arr,i=0):\n",
    "    \n",
    "#to stop at the end of the arr\n",
    "    if i==len(arr):\n",
    "        return -1\n",
    "# searching  \n",
    "    if elemnt==arr[i]:\n",
    "        return arr[i],i\n",
    "\n",
    "    return recursive_linear_search(elemnt,arr,i+1)\n",
    "\n",
    "\n",
    "tmp=recursive_linear_search(5,[1,4,3,5,6]) \n",
    "if tmp!=-1:\n",
    "    print(\"element {} found in the array at index :{}\".format(tmp[0],tmp[1]))\n",
    "else:\n",
    "    print(\"element not found in the list\")\n",
    "    "
   ]
  },
  {
   "cell_type": "markdown",
   "metadata": {},
   "source": [
    "# iterative gcd"
   ]
  },
  {
   "cell_type": "code",
   "execution_count": 97,
   "metadata": {},
   "outputs": [
    {
     "name": "stdout",
     "output_type": "stream",
     "text": [
      "GCD is : 4\n"
     ]
    }
   ],
   "source": [
    "def iterative_gcd(a,b):\n",
    "    if a ==0 or b==0:\n",
    "        print(\"invalid input can't divide by zero\")\n",
    "    if a>b:\n",
    "        smal=b\n",
    "    else: \n",
    "        smal=a\n",
    "#take modulous of the big by the small number and subtract from the smaller over iteration        \n",
    "    for j in range(smal,1,-1):\n",
    "        if a%j==0 and b%j==0:\n",
    "            print('GCD is :',j)\n",
    "            break\n",
    "\n",
    "iterative_gcd(12,8)\n"
   ]
  },
  {
   "cell_type": "markdown",
   "metadata": {},
   "source": [
    "# recursion GCD"
   ]
  },
  {
   "cell_type": "code",
   "execution_count": 100,
   "metadata": {},
   "outputs": [
    {
     "name": "stdout",
     "output_type": "stream",
     "text": [
      "GCD is : 4\n"
     ]
    }
   ],
   "source": [
    "def recursion_gcd(x,y):\n",
    "    if x==0 :\n",
    "        return y\n",
    "    if y==0:\n",
    "        return x\n",
    "    return recursion_gcd(y,x%y)\n",
    "\n",
    "\n",
    "print('GCD is :',recursion_gcd(8,12))\n"
   ]
  },
  {
   "cell_type": "markdown",
   "metadata": {},
   "source": [
    "# Eculidean GCD"
   ]
  },
  {
   "cell_type": "code",
   "execution_count": 104,
   "metadata": {},
   "outputs": [
    {
     "name": "stdout",
     "output_type": "stream",
     "text": [
      "GCD is : 4\n"
     ]
    }
   ],
   "source": [
    "def euclidean_gcd(x,y):\n",
    "    while x!=0 or y!=0:\n",
    "        if x==0 :\n",
    "            return y\n",
    "        if y==0:\n",
    "            return x\n",
    "        x,y=y,x%y\n",
    "print('GCD is :',euclidean_gcd(12,8))"
   ]
  },
  {
   "cell_type": "markdown",
   "metadata": {},
   "source": [
    "# Insertion sort"
   ]
  },
  {
   "cell_type": "code",
   "execution_count": 106,
   "metadata": {},
   "outputs": [
    {
     "name": "stdout",
     "output_type": "stream",
     "text": [
      "[1, 2, 3, 5, 6, 9]\n"
     ]
    }
   ],
   "source": [
    "# insertion sort\n",
    "def insertSort(arr):\n",
    "    for i in range(1,len(arr)):\n",
    "        k=arr[i]\n",
    "        j=i-1\n",
    "        while(k< arr[j] and j>=0):\n",
    "            arr[j+1]=arr[j]\n",
    "            j-=1\n",
    "        arr[j+1]=k\n",
    "    return arr\n",
    "\n",
    "ar=[5,3,2,1,6,9]\n",
    "\n",
    "print(insertSort(ar))"
   ]
  },
  {
   "cell_type": "markdown",
   "metadata": {},
   "source": [
    "# Recursion Insertion sort"
   ]
  },
  {
   "cell_type": "code",
   "execution_count": 135,
   "metadata": {},
   "outputs": [
    {
     "data": {
      "text/plain": [
       "[1, 2, 3, 3, 5, 6, 9, 11, 12]"
      ]
     },
     "execution_count": 135,
     "metadata": {},
     "output_type": "execute_result"
    }
   ],
   "source": [
    "#recursion insertion_sort\n",
    "def Recursion_insertion(rr,n):\n",
    "    if n<=1:\n",
    "        return\n",
    "    Recursion_insertion(rr,n-1)  # instead of the outer for loop\n",
    "\n",
    "    sortd=rr[n-1]   #start n element after recursion will be the last element in the list (to start sorting)\n",
    "    j=n-2\n",
    "    while(sortd< rr[j] and j>=0):\n",
    "        rr[j+1]=rr[j]\n",
    "        j-=1\n",
    "    rr[j+1]=sortd\n",
    "    return rr\n",
    "    \n",
    "ar22=[5,11,12,3,3,2,1,6,9]\n",
    "Recursion_insertion(ar22,len(ar22))\n"
   ]
  },
  {
   "cell_type": "markdown",
   "metadata": {},
   "source": [
    "# Bubble sort"
   ]
  },
  {
   "cell_type": "code",
   "execution_count": 55,
   "metadata": {},
   "outputs": [
    {
     "name": "stdout",
     "output_type": "stream",
     "text": [
      "[1, 2, 3, 5, 6, 9, 11, 12]\n"
     ]
    }
   ],
   "source": [
    "#Bubble_Sort\n",
    "\n",
    "def bubbleSort(arr):\n",
    "    for i in range(len(arr)):\n",
    "        for j in range(len(arr)-i-1):\n",
    "            if arr[j]>arr[j+1]:\n",
    "                arr[j],arr[j+1]=  arr[j+1],arr[j]\n",
    "    return arr\n",
    "ar2=[5,11,12,3,2,1,6,9]\n",
    "print(bubbleSort(ar2))   "
   ]
  },
  {
   "cell_type": "markdown",
   "metadata": {},
   "source": [
    "# Binary Search Iterative"
   ]
  },
  {
   "cell_type": "code",
   "execution_count": 185,
   "metadata": {},
   "outputs": [
    {
     "name": "stdout",
     "output_type": "stream",
     "text": [
      "element 4 found in the array at index :3\n"
     ]
    }
   ],
   "source": [
    "def binary_search(elmnt,arr):\n",
    "    start=0\n",
    "    end=len(arr)\n",
    "    while start<=end:\n",
    "        mid=end+(start-end)//2 \n",
    "        if arr[mid]==elmnt:\n",
    "            return arr[mid],mid\n",
    "        elif elmnt>arr[mid]:\n",
    "            start=mid+1\n",
    "        elif elmnt<arr[mid]:\n",
    "            end=mid-1\n",
    "    return -1\n",
    "tmp=binary_search(4,[1,2,3,4,5,6,7,8,9])\n",
    "\n",
    "if tmp==-1:\n",
    "    print(\"element not found in the list \")\n",
    "else:\n",
    "    print(\"element {} found in the array at index :{}\".format(tmp[0],tmp[1]))\n"
   ]
  },
  {
   "cell_type": "markdown",
   "metadata": {},
   "source": [
    "# Binary Search Recursive"
   ]
  },
  {
   "cell_type": "markdown",
   "metadata": {},
   "source": []
  },
  {
   "cell_type": "markdown",
   "metadata": {},
   "source": [
    "\n"
   ]
  },
  {
   "cell_type": "code",
   "execution_count": 189,
   "metadata": {},
   "outputs": [
    {
     "name": "stdout",
     "output_type": "stream",
     "text": [
      "element 6 found in the array at index :3\n"
     ]
    }
   ],
   "source": [
    "def binary_search_recursive(elmnt, arr,start ,end):\n",
    "    if end>=start:\n",
    "        mid = end+(start-end) // 2\n",
    "\n",
    "        if arr[mid] == elmnt:\n",
    "            return arr[mid],mid\n",
    "        elif arr[mid] > elmnt:\n",
    "            return binary_search_recursive(elmnt,arr,start, mid-1)\n",
    "        elif arr[mid]<elmnt:\n",
    "            return binary_search_recursive(elmnt,arr, mid+1, end)\n",
    "    else:\n",
    "        return -1\n",
    "\n",
    "arr= [2, 3, 4, 6, 8,9,12,13,14 ]\n",
    "\n",
    "elmnt=6\n",
    "tmp=binary_search_recursive(elmnt,arr, 0, len(arr)-1)\n",
    "\n",
    "if tmp==-1:\n",
    "    print(\"element not found in the list \")\n",
    "else:\n",
    "    print(\"element {} found in the array at index :{}\".format(tmp[0],tmp[1]))\n",
    "\n"
   ]
  }
 ],
 "metadata": {
  "kernelspec": {
   "display_name": "Python 3",
   "language": "python",
   "name": "python3"
  },
  "language_info": {
   "codemirror_mode": {
    "name": "ipython",
    "version": 3
   },
   "file_extension": ".py",
   "mimetype": "text/x-python",
   "name": "python",
   "nbconvert_exporter": "python",
   "pygments_lexer": "ipython3",
   "version": "3.8.5"
  },
  "toc": {
   "base_numbering": 1,
   "nav_menu": {},
   "number_sections": true,
   "sideBar": true,
   "skip_h1_title": false,
   "title_cell": "Table of Contents",
   "title_sidebar": "Contents",
   "toc_cell": false,
   "toc_position": {},
   "toc_section_display": true,
   "toc_window_display": false
  }
 },
 "nbformat": 4,
 "nbformat_minor": 4
}
