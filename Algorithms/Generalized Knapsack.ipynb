{
 "cells": [
  {
   "cell_type": "markdown",
   "metadata": {},
   "source": [
    "# generalized Knapsack"
   ]
  },
  {
   "cell_type": "code",
   "execution_count": 1,
   "metadata": {},
   "outputs": [],
   "source": [
    "# Knapsack Problem\n",
    "\n",
    "class Knapsack:\n",
    "    \n",
    "    arr_obj=[]\n",
    "    bag_size=10\n",
    "    remaining=0\n",
    "    totalVal=0\n",
    "    F_or_not='f'\n",
    "    cost_func='p'\n",
    "    \n",
    "    def get_Data(self):\n",
    "        #to get choice from user \n",
    "        X=True\n",
    "        print(\"hint : must add objects to the system,default napsack is fractional ,default bag size is 10,default cost function is to maximize profit \")\n",
    "        print(\"0 - to add napsack objects to the system and specify bag size\")\n",
    "        print(\"1 - Choose type of napsack fractional or 0/1 \\n\")\n",
    "        print(\"2 - Select Cost Function (maximize profit , maximize profit per weight or minimize weight )\")\n",
    "        print(\"3 - Update objects or Knapsack constraints \")\n",
    "        print(\"4 - Exit the program\\n\\n\\n\")\n",
    "        \n",
    "        while X==True:\n",
    "           \n",
    "            # do commands based on users choice\n",
    "            choice=int(input(\"please enter your choice from 0 to 4 : \"))\n",
    "            \n",
    "            if choice==0:\n",
    "                self.bag_size=int(input(\"enter bag size : \"))\n",
    "                self.remaining=self.bag_size\n",
    "                n=int(input(\"enter number of objects : \"))\n",
    "                self.arr_obj=[0]*n\n",
    "                value = input('Enter the profit of the {} item(s) in order and separated by space : '.format(n)).split()\n",
    "                value = [int(v) for v in value]\n",
    "                weight = input('Enter the positive weights of the {} item(s) in order and separated by space : '.format(n)).split()\n",
    "                weight = [int(w) for w in weight]\n",
    "                for i in range(n):\n",
    "                    self.arr_obj[i]=(value[i],weight[i],i)\n",
    "\n",
    "            \n",
    "            elif choice==1:\n",
    "                self.F_or_not=input(\"write (f) for fractional or (nf) for non fractional\")\n",
    "            elif choice==2:\n",
    "                self.cost_func=input(\"write (p) for maximizing profit or (pw) for profit per weight maximization or (mw) for minimzing weight\")\n",
    "            elif choice==3:\n",
    "                \n",
    "                print(\"1- modify napsack objects \")\n",
    "                print(\"2- change napsack constraints (Main menu)\")\n",
    "                inner_choice=int(input(\"please enter your choice from 1 or 2 : \"))\n",
    "                if inner_choice==1:\n",
    "                    num=int(input (\"enter the id_number of the desired object (start from 0)\"))\n",
    "                    objj=self.arr_obj[num]\n",
    "                    self.arr_obj.remove(objj)\n",
    "                    wgt=int(input(\"enter weight of object number {}: \".format(i)))\n",
    "                    val=int(input(\"enter: value of object number {} : \".format(i)))\n",
    "                    tmp=(val,wgt,num)\n",
    "                    self.arr_obj.append(tmp)\n",
    "                elif inner_choice==2:\n",
    "                    continue\n",
    "                else:\n",
    "                    print(\"invalid input please enter a valid choice!!!!!\")\n",
    "                    \n",
    "            elif choice==4:\n",
    "                X=False\n",
    "            else:\n",
    "                \n",
    "                print(\"invalid input please enter a valid choice!!!!!\")\n",
    "      \n",
    "            \n",
    "            \n",
    "    def calc_knapsack(self):\n",
    "        #these if statements to select suitable cost function based on user selecton it sorts the list \n",
    "        #of Knapsack objects \n",
    "        \n",
    "        if self.cost_func=='p':\n",
    "            self.arr_obj=sorted(self.arr_obj,key=lambda item:item[0],reverse=True)\n",
    "        elif self.cost_func=='pw':\n",
    "            self.arr_obj=sorted(self.arr_obj,key=lambda item:item[0]/item[1],reverse=True)\n",
    "        elif self.cost_func=='mw':\n",
    "            self.arr_obj=sorted(self.arr_obj,key=lambda item:item[1])\n",
    "            \n",
    "        print(\"Total array of objects is : \",self.arr_obj)\n",
    "        container=[]\n",
    "        for i in range(len(self.arr_obj)):\n",
    "            val_obj=self.arr_obj[0]\n",
    "            #apply 0/1 knapsack based on user selection (nf)\n",
    "            if self.F_or_not=='nf':\n",
    "                if val_obj[1]<= self.remaining:\n",
    "                    self.remaining-=val_obj[1]\n",
    "                    self.totalVal+=val_obj[0]\n",
    "                    container.append(val_obj)\n",
    "                self.arr_obj.remove(val_obj)\n",
    "                \n",
    "            #apply fractional knapsack based on user selection (f)\n",
    "            elif self.F_or_not=='f':\n",
    "                if val_obj[1]<= self.remaining:\n",
    "                    self.totalVal += val_obj[0]\n",
    "                    self.remaining -= val_obj[1]\n",
    "                    container.append(val_obj)\n",
    "                    self.arr_obj.remove(val_obj)\n",
    "                else:                    \n",
    "                    amountSelected=(val_obj[1]%self.remaining)\n",
    "                    obj_prft=amountSelected*(val_obj[0]/val_obj[1])\n",
    "                    self.totalVal += obj_prft\n",
    "                    self.remaining -=amountSelected\n",
    "                    p,w,i=val_obj\n",
    "                    w=amountSelected\n",
    "                    container.append((p,w,i))\n",
    "                    self.arr_obj.remove(val_obj)\n",
    "\n",
    "                    \n",
    "                \n",
    "        print(\"Total objects in the bag \",container)\n",
    "        print('The maximum profit of items that can be carried:', self.totalVal)\n",
    "        \n",
    "        \n",
    "\n",
    "\n",
    "\n",
    "\n"
   ]
  },
  {
   "cell_type": "code",
   "execution_count": 2,
   "metadata": {
    "scrolled": true
   },
   "outputs": [],
   "source": [
    "knapsack_obj=Knapsack()\n"
   ]
  },
  {
   "cell_type": "code",
   "execution_count": 3,
   "metadata": {},
   "outputs": [
    {
     "name": "stdout",
     "output_type": "stream",
     "text": [
      "hint : must add objects to the system,default napsack is fractional ,default bag size is 10,default cost function is to maximize profit \n",
      "0 - to add napsack objects to the system and specify bag size\n",
      "1 - Choose type of napsack fractional or 0/1 \n",
      "\n",
      "2 - Select Cost Function (maximize profit , maximize profit per weight or minimize weight )\n",
      "3 - Update objects or Knapsack constraints \n",
      "4 - Exit the program\n",
      "\n",
      "\n",
      "\n",
      "please enter your choice from 0 to 4 : 0\n",
      "enter bag size : 12\n",
      "enter number of objects : 3\n",
      "Enter the profit of the 3 item(s) in order and separated by space : 4 5 7\n",
      "Enter the positive weights of the 3 item(s) in order and separated by space : 3 5 4\n",
      "please enter your choice from 0 to 4 : 4\n"
     ]
    }
   ],
   "source": [
    "knapsack_obj.get_Data()"
   ]
  },
  {
   "cell_type": "code",
   "execution_count": 4,
   "metadata": {},
   "outputs": [
    {
     "name": "stdout",
     "output_type": "stream",
     "text": [
      "Total array of objects is :  [(7, 4, 2), (5, 5, 1), (4, 3, 0)]\n",
      "Total objects in the bag  [(7, 4, 2), (5, 5, 1), (4, 3, 0)]\n",
      "The maximum profit of items that can be carried: 16\n"
     ]
    }
   ],
   "source": [
    "knapsack_obj.calc_knapsack()"
   ]
  }
 ],
 "metadata": {
  "kernelspec": {
   "display_name": "Python 3",
   "language": "python",
   "name": "python3"
  },
  "language_info": {
   "codemirror_mode": {
    "name": "ipython",
    "version": 3
   },
   "file_extension": ".py",
   "mimetype": "text/x-python",
   "name": "python",
   "nbconvert_exporter": "python",
   "pygments_lexer": "ipython3",
   "version": "3.8.5"
  }
 },
 "nbformat": 4,
 "nbformat_minor": 4
}
