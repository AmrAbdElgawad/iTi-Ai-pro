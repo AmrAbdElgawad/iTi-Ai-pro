{
 "cells": [
  {
   "cell_type": "markdown",
   "metadata": {},
   "source": [
    "# Queue implementation"
   ]
  },
  {
   "cell_type": "code",
   "execution_count": 206,
   "metadata": {},
   "outputs": [],
   "source": [
    "\n",
    "class Queue:\n",
    "    def __init__(self,size):\n",
    "        self.arr=[]\n",
    "        self.front=0\n",
    "        self.end=0\n",
    "        self.size=size\n",
    "        \n",
    "    def push(self,X):\n",
    "        if self.isFull()==True:\n",
    "            print(\"queue is Full\")\n",
    "            print(self.arr)\n",
    "            return\n",
    "        self.arr.append(X)\n",
    "        self.end+=1\n",
    "    \n",
    "        \n",
    "    def pop(self):\n",
    "        \n",
    "        if self.isempty()==True:\n",
    "            print(\"queue is empty \")\n",
    "            return\n",
    "        x=self.arr[0]\n",
    "        self.arr=self.arr[1:]\n",
    "        self.end-=1\n",
    "        return x\n",
    "    \n",
    "    def print_queue(self):\n",
    "        print(self.arr)\n",
    "\n",
    "    def Size(self):\n",
    "        return(len(self.arr))\n",
    "    def isFull(self):\n",
    "        if self.size==self.end:\n",
    "            return True\n",
    "        else:\n",
    "            return False\n",
    "    def isempty(self):\n",
    "        if self.end==self.front:\n",
    "            return True\n",
    "        else:\n",
    "            return False\n",
    "        \n",
    "        \n",
    "    \n",
    "        "
   ]
  },
  {
   "cell_type": "code",
   "execution_count": 174,
   "metadata": {},
   "outputs": [],
   "source": [
    "z=Queue(3)"
   ]
  },
  {
   "cell_type": "code",
   "execution_count": 175,
   "metadata": {},
   "outputs": [
    {
     "name": "stdout",
     "output_type": "stream",
     "text": [
      "queue is empty \n"
     ]
    }
   ],
   "source": [
    "z.pop()"
   ]
  },
  {
   "cell_type": "code",
   "execution_count": 176,
   "metadata": {},
   "outputs": [
    {
     "name": "stdout",
     "output_type": "stream",
     "text": [
      "[1]\n"
     ]
    }
   ],
   "source": [
    "z.push(1)"
   ]
  },
  {
   "cell_type": "code",
   "execution_count": 177,
   "metadata": {},
   "outputs": [
    {
     "name": "stdout",
     "output_type": "stream",
     "text": [
      "[1, 2]\n"
     ]
    }
   ],
   "source": [
    "z.push(2)"
   ]
  },
  {
   "cell_type": "code",
   "execution_count": 178,
   "metadata": {},
   "outputs": [
    {
     "name": "stdout",
     "output_type": "stream",
     "text": [
      "[1, 2, 3]\n"
     ]
    }
   ],
   "source": [
    "z.push(3)"
   ]
  },
  {
   "cell_type": "code",
   "execution_count": 180,
   "metadata": {},
   "outputs": [
    {
     "name": "stdout",
     "output_type": "stream",
     "text": [
      "queue is Full\n",
      "[1, 2, 3]\n"
     ]
    }
   ],
   "source": [
    "z.push(4)"
   ]
  },
  {
   "cell_type": "code",
   "execution_count": 181,
   "metadata": {},
   "outputs": [
    {
     "data": {
      "text/plain": [
       "3"
      ]
     },
     "execution_count": 181,
     "metadata": {},
     "output_type": "execute_result"
    }
   ],
   "source": [
    "z.Size()"
   ]
  },
  {
   "cell_type": "markdown",
   "metadata": {},
   "source": [
    "# Stack implementation "
   ]
  },
  {
   "cell_type": "code",
   "execution_count": 239,
   "metadata": {},
   "outputs": [],
   "source": [
    "\n",
    "\n",
    "class Stack:\n",
    "    def __init__(self,size):\n",
    "        self.arr=[]\n",
    "        self.front=0\n",
    "        self.end=0\n",
    "        self.size=size\n",
    "        \n",
    "    def push(self,X):\n",
    "        if self.isFull()==True:\n",
    "            print(\"Stack is Full\")\n",
    "            return\n",
    "        self.arr.append(X)\n",
    "        self.end+=1\n",
    "    \n",
    "        \n",
    "    def pop(self):\n",
    "        \n",
    "        if self.isempty()==True:\n",
    "            print(\"Stack is empty \")\n",
    "            return\n",
    "        x=self.arr[-1]\n",
    "        self.arr=self.arr[:len(self.arr)-1]\n",
    "        self.end-=1\n",
    "        return x\n",
    "    \n",
    "    def print_stack(self):\n",
    "        print(self.arr)\n",
    "\n",
    "    def Size(self):\n",
    "        return(len(self.arr))\n",
    "    def isFull(self):\n",
    "        if self.size==self.end:\n",
    "            return True\n",
    "        else:\n",
    "            return False\n",
    "    def isempty(self):\n",
    "        if self.end==self.front:\n",
    "            return True\n",
    "        else:\n",
    "            return False\n",
    "        \n",
    "        \n",
    "    \n",
    "        "
   ]
  },
  {
   "cell_type": "code",
   "execution_count": 240,
   "metadata": {},
   "outputs": [],
   "source": [
    "s=Stack(3)"
   ]
  },
  {
   "cell_type": "code",
   "execution_count": 242,
   "metadata": {},
   "outputs": [],
   "source": [
    "s.push(3)\n"
   ]
  },
  {
   "cell_type": "code",
   "execution_count": 243,
   "metadata": {},
   "outputs": [],
   "source": [
    "s.push(4)"
   ]
  },
  {
   "cell_type": "code",
   "execution_count": 245,
   "metadata": {},
   "outputs": [
    {
     "name": "stdout",
     "output_type": "stream",
     "text": [
      "Stack is Full\n"
     ]
    }
   ],
   "source": [
    "s.push(5)\n"
   ]
  },
  {
   "cell_type": "code",
   "execution_count": 194,
   "metadata": {},
   "outputs": [
    {
     "data": {
      "text/plain": [
       "5"
      ]
     },
     "execution_count": 194,
     "metadata": {},
     "output_type": "execute_result"
    }
   ],
   "source": [
    "s.pop()"
   ]
  },
  {
   "cell_type": "code",
   "execution_count": 195,
   "metadata": {},
   "outputs": [
    {
     "data": {
      "text/plain": [
       "4"
      ]
     },
     "execution_count": 195,
     "metadata": {},
     "output_type": "execute_result"
    }
   ],
   "source": [
    "s.pop()"
   ]
  },
  {
   "cell_type": "code",
   "execution_count": 196,
   "metadata": {},
   "outputs": [
    {
     "data": {
      "text/plain": [
       "3"
      ]
     },
     "execution_count": 196,
     "metadata": {},
     "output_type": "execute_result"
    }
   ],
   "source": [
    "s.pop()"
   ]
  },
  {
   "cell_type": "code",
   "execution_count": 197,
   "metadata": {},
   "outputs": [
    {
     "name": "stdout",
     "output_type": "stream",
     "text": [
      "queue is empty \n"
     ]
    }
   ],
   "source": [
    "s.pop()"
   ]
  },
  {
   "cell_type": "code",
   "execution_count": 203,
   "metadata": {},
   "outputs": [],
   "source": [
    "from collections import defaultdict"
   ]
  },
  {
   "cell_type": "markdown",
   "metadata": {},
   "source": [
    "# BFS implementation using dictionary graph and   Queue"
   ]
  },
  {
   "cell_type": "code",
   "execution_count": 266,
   "metadata": {},
   "outputs": [
    {
     "name": "stdout",
     "output_type": "stream",
     "text": [
      "0\n",
      "[1, 4]\n",
      "1\n",
      "[0, 3, 2]\n",
      "4\n",
      "[0]\n",
      "3\n",
      "[1]\n",
      "2\n",
      "[1]\n"
     ]
    }
   ],
   "source": [
    "class Graph:\n",
    "    \n",
    "    def __init__(self):\n",
    "        self.graph=defaultdict(list)\n",
    "    def add_edge(self,u,v):\n",
    "        self.graph[u].append(v)\n",
    "    def print_graph(self):\n",
    "        for k in self.graph:\n",
    "            print(k)\n",
    "            print([j for j in self.graph[k]])\n",
    "    def BFT(self,s):\n",
    "        visited=[False]*(len(self.graph))\n",
    "        #customized queue from the implemented class\n",
    "        Que=Queue(20)\n",
    "        Que.push(s)\n",
    "        visited[s]=True\n",
    "        while Que.isempty()==False:\n",
    "            s=Que.pop()\n",
    "            print(s)\n",
    "            for i in self.graph[s]:\n",
    "                if visited[i]==False:\n",
    "                    Que.push(i)\n",
    "                    visited[i]=True\n",
    "g=Graph()\n",
    "g.add_edge(0,1)\n",
    "g.add_edge(1,0)\n",
    "g.add_edge(0,4)\n",
    "g.add_edge(4,0)\n",
    "g.add_edge(1,3)\n",
    "g.add_edge(3,1)\n",
    "g.add_edge(1,2)\n",
    "g.add_edge(2,1)\n",
    "\n",
    "g.print_graph()"
   ]
  },
  {
   "cell_type": "code",
   "execution_count": 267,
   "metadata": {},
   "outputs": [
    {
     "name": "stdout",
     "output_type": "stream",
     "text": [
      "0\n",
      "1\n",
      "4\n",
      "3\n",
      "2\n"
     ]
    }
   ],
   "source": [
    "g.BFT(0)"
   ]
  },
  {
   "cell_type": "markdown",
   "metadata": {},
   "source": [
    "# DFS implementation using dictionary graph and   Queue"
   ]
  },
  {
   "cell_type": "code",
   "execution_count": 261,
   "metadata": {},
   "outputs": [],
   "source": [
    "class Graph:\n",
    "    \n",
    "    def __init__(self):\n",
    "        self.graph=defaultdict(list)\n",
    "    def add_edge(self,u,v):\n",
    "        self.graph[u].append(v)\n",
    "        \n",
    "    def print_graph(self):\n",
    "        for k in self.graph:\n",
    "            print(k)\n",
    "            print([j for j in self.graph[k]])\n",
    "            \n",
    "    def DfS(self,s):\n",
    "        visited=[False]*(len(self.graph))\n",
    "        #customized Stack from implemented class\n",
    "        stack=Stack(20)\n",
    "        stack.push(s)\n",
    "        visited[s]=True\n",
    "        while stack.isempty()==False:\n",
    "            s=stack.pop()\n",
    "            print(s)\n",
    "            for i in self.graph[s]:\n",
    "                if visited[i]==False:\n",
    "                    stack.push(i)\n",
    "                    visited[i]=True\n",
    "                    \n",
    "\n",
    "\n"
   ]
  },
  {
   "cell_type": "code",
   "execution_count": 262,
   "metadata": {},
   "outputs": [
    {
     "name": "stdout",
     "output_type": "stream",
     "text": [
      "0\n",
      "[1, 4]\n",
      "1\n",
      "[0, 3, 2]\n",
      "4\n",
      "[0, 5]\n",
      "5\n",
      "[4]\n",
      "3\n",
      "[1]\n",
      "2\n",
      "[1]\n"
     ]
    }
   ],
   "source": [
    "g.print_graph()"
   ]
  },
  {
   "cell_type": "code",
   "execution_count": 252,
   "metadata": {},
   "outputs": [
    {
     "name": "stdout",
     "output_type": "stream",
     "text": [
      "0\n",
      "4\n",
      "5\n",
      "1\n",
      "2\n",
      "3\n"
     ]
    }
   ],
   "source": [
    "g.DfS(0)"
   ]
  },
  {
   "cell_type": "markdown",
   "metadata": {},
   "source": [
    "# Dijikstra implementation Using Dictionary graph (NOt Accurate)"
   ]
  },
  {
   "cell_type": "code",
   "execution_count": 189,
   "metadata": {},
   "outputs": [],
   "source": [
    "from collections import defaultdict\n",
    "import queue\n",
    "\n",
    "import math\n",
    "class Graph:\n",
    "    \n",
    "    def __init__(self):\n",
    "        self.graph=defaultdict(list)\n",
    "        self.nodes=[]\n",
    "    def add_edge(self,u,v,w):\n",
    "        self.nodes.append(u)\n",
    "        self.nodes.append(v)\n",
    "        i=(v,w)\n",
    "\n",
    "        self.graph[u].append(i)\n",
    "    def ret_graph(self):\n",
    "        return self.graph\n",
    "    def print_graph(self):\n",
    "        for k in self.graph:\n",
    "            print(k)\n",
    "            print([j for j in self.graph[k]])\n",
    "    def get_nodes(self):\n",
    "        mynodes = list(dict.fromkeys(self.nodes))\n",
    "        return mynodes\n",
    "        \n",
    "    \n",
    "\n",
    "g=Graph()\n",
    "g.add_edge(0,1,2)\n",
    "g.add_edge(1,0,2)\n",
    "g.add_edge(0,4,3)\n",
    "g.add_edge(4,0,3)\n",
    "g.add_edge(5,4,5)\n",
    "g.add_edge(4,5,5)\n",
    "g.add_edge(1,3,6)\n",
    "g.add_edge(3,1,6)\n",
    "g.add_edge(1,2,1)\n",
    "g.add_edge(2,1,1)\n"
   ]
  },
  {
   "cell_type": "code",
   "execution_count": 190,
   "metadata": {},
   "outputs": [
    {
     "name": "stdout",
     "output_type": "stream",
     "text": [
      "0\n",
      "[(1, 2), (4, 3)]\n",
      "1\n",
      "[(0, 2), (3, 6), (2, 1)]\n",
      "4\n",
      "[(0, 3), (5, 5)]\n",
      "5\n",
      "[(4, 5)]\n",
      "3\n",
      "[(1, 6)]\n",
      "2\n",
      "[(1, 1)]\n"
     ]
    }
   ],
   "source": [
    "#parent node\n",
    "#list of childs in tuple contains vertix number and weight[(v,w),(v,w)]\n",
    "\n",
    "g.print_graph()"
   ]
  },
  {
   "cell_type": "code",
   "execution_count": 205,
   "metadata": {},
   "outputs": [],
   "source": [
    "class Dijikstra:\n",
    "    def __init__ (self,graph,src,target):\n",
    "        self.gr=graph.ret_graph()            \n",
    "        self.src=src\n",
    "        self.totaldist=0\n",
    "        self.dist=[math.inf]*(len(self.gr))\n",
    "        self.previous=[None]*(len(self.gr))\n",
    "        self.Vertex=graph.get_nodes()\n",
    "        self.Vertex=sorted(self.Vertex)\n",
    "        self.Q=queue.Queue()\n",
    "\n",
    "    \n",
    "\n",
    "\n",
    "    def dijikstra(self):\n",
    "        for v in self.Vertex:\n",
    "            if v!=self.src:\n",
    "                self.Q.put(v)\n",
    "    \n",
    "        self.dist[self.src]=0\n",
    "        while self.Q.empty()==False:\n",
    "            U=self.Q.get()\n",
    "            for unvisited in self.gr[U]:\n",
    "                node,weight=unvisited\n",
    "                tmp_dist=self.dist[U]+weight\n",
    "                if tmp_dist<self.dist[U]:\n",
    "                    print(tmp_dist)\n",
    "                    self.dist[node]=tmp_dist\n",
    "                    self.previous[node]=U\n",
    "        return self.previous ,self.dist\n",
    "                \n"
   ]
  },
  {
   "cell_type": "code",
   "execution_count": 206,
   "metadata": {},
   "outputs": [],
   "source": [
    "dj=Dijikstra(g,0,2)"
   ]
  },
  {
   "cell_type": "code",
   "execution_count": 207,
   "metadata": {},
   "outputs": [
    {
     "data": {
      "text/plain": [
       "([None, None, None, None, None, None], [0, inf, inf, inf, inf, inf])"
      ]
     },
     "execution_count": 207,
     "metadata": {},
     "output_type": "execute_result"
    }
   ],
   "source": [
    "dj.dijikstra()"
   ]
  },
  {
   "cell_type": "markdown",
   "metadata": {},
   "source": [
    "# Dijikstra implementation Using Adjacency Matrix Graph"
   ]
  },
  {
   "cell_type": "code",
   "execution_count": 231,
   "metadata": {},
   "outputs": [
    {
     "name": "stdout",
     "output_type": "stream",
     "text": [
      "Node \t Distance from 0\n",
      "0 \t 0\n",
      "1 \t 2\n",
      "2 \t 6\n",
      "3 \t 9\n",
      "4 \t 20\n",
      "5 \t 14\n",
      "6 \t 20\n"
     ]
    }
   ],
   "source": [
    "import math\n",
    "class Graph(): \n",
    "    def __init__(self,graph):\n",
    "        self.dist = [0]*len(graph)\n",
    "        self.visted = [0]*len(graph)\n",
    "        self.V =len(graph)\n",
    "        self.INF = math.inf\n",
    "        self.graph = graph\n",
    "        \n",
    "    def minDistance(self, distArray, vistSet): \n",
    "  \n",
    "        Min = self.INF\n",
    "        for v in range(self.V): \n",
    "            if distArray[v] < Min and vistSet[v] == False: \n",
    "                Min = distArray[v] \n",
    "                min_index = v \n",
    "        return min_index\n",
    "    \n",
    "    def printDijikstra(self, dist): \n",
    "        print (\"Node \\t Distance from 0\")\n",
    "        for i in range(self.V): \n",
    "            print (i, \"\\t\", dist[i])\n",
    "\n",
    "    def dijikstra(self, src):\n",
    "        #initialize all nodes as not visited and all dist by inf\n",
    "        for i in range(self.V):\n",
    "            self.dist[i] = self.INF\n",
    "            self.visted[i] = False\n",
    "\n",
    "        self.dist[src] = 0\n",
    "        for i in range(self.V):  \n",
    "            u = self.minDistance(self.dist, self.visted) \n",
    "              \n",
    "            self.visted[u] = True\n",
    "            for v in range(self.V): \n",
    "                if self.graph[u][v] > 0 and self.visted[v] == False and self.dist[v] > self.dist[u] + self.graph[u][v]: \n",
    "                        self.dist[v] = self.dist[u] + self.graph[u][v] \n",
    "                        \n",
    "        self.printDijikstra(self.dist)\n",
    "\n",
    "\n",
    "   \n",
    "\n",
    "   \n",
    "GR = [[0, 2, 6, 0, 0, 0, 0], \n",
    "        [2, 0, 0, 7, 0, 0, 0], \n",
    "        [6, 6, 0, 3, 0, 0, 0], \n",
    "        [0, 0, 8, 0, 21, 5, 0], \n",
    "        [0, 0, 0, 3, 0, 4, 2], \n",
    "        [0, 0, 0, 5, 6, 4, 6], \n",
    "        [0, 0, 0, 0, 2, 6, 0]]\n",
    "gr = Graph(GR) \n",
    "\n",
    "  \n",
    "gr.dijikstra(0)"
   ]
  },
  {
   "cell_type": "markdown",
   "metadata": {},
   "source": [
    "# Pseudo code used in my implementataion of dijikstra"
   ]
  },
  {
   "cell_type": "raw",
   "metadata": {},
   "source": [
    "function dijkstra(G, S)\n",
    "    for each vertex V in G\n",
    "        distance[V] <- infinite\n",
    "        previous[V] <- NULL\n",
    "        If V != S, add V to Priority Queue Q\n",
    "    distance[S] <- 0\n",
    "\t\n",
    "    while Q IS NOT EMPTY\n",
    "        U <- Extract MIN from Q\n",
    "        for each unvisited neighbour V of U\n",
    "            tempDistance <- distance[U] + edge_weight(U, V)\n",
    "            if tempDistance < distance[V]\n",
    "                distance[V] <- tempDistance\n",
    "                previous[V] <- U\n",
    "    return distance[], previous[]"
   ]
  },
  {
   "cell_type": "code",
   "execution_count": null,
   "metadata": {},
   "outputs": [],
   "source": []
  }
 ],
 "metadata": {
  "kernelspec": {
   "display_name": "Python 3",
   "language": "python",
   "name": "python3"
  },
  "language_info": {
   "codemirror_mode": {
    "name": "ipython",
    "version": 3
   },
   "file_extension": ".py",
   "mimetype": "text/x-python",
   "name": "python",
   "nbconvert_exporter": "python",
   "pygments_lexer": "ipython3",
   "version": "3.8.5"
  }
 },
 "nbformat": 4,
 "nbformat_minor": 4
}
