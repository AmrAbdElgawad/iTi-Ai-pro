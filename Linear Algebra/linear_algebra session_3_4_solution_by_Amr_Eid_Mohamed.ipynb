{
 "cells": [
  {
   "cell_type": "markdown",
   "metadata": {},
   "source": [
    "# assignment solution (coding section)\n",
    "\n",
    "# Name : Amr Eid Mohamed Hanafy AbdElGawad\n",
    "\n",
    "# Group :5"
   ]
  },
  {
   "cell_type": "markdown",
   "metadata": {},
   "source": [
    "### (1) Calculating the inverse of a 2x2 matrix without using numpy\n"
   ]
  },
  {
   "cell_type": "code",
   "execution_count": 87,
   "metadata": {},
   "outputs": [
    {
     "name": "stdout",
     "output_type": "stream",
     "text": [
      "Determinant of a 2x2 matrix is : -2\n"
     ]
    }
   ],
   "source": [
    "# Code a function to calculate the determinant of 2x2 matrix\n",
    "#i dont use np.linalg.det built it from scratch\n",
    "\n",
    "A=[[1,2]\n",
    "  ,[3,4]]\n",
    "\n",
    "def calc_determinant(A):\n",
    "    det_A=(A[0][0]*A[1][1])-(A[0][1]*A[1][0])\n",
    "    return (det_A)\n",
    "\n",
    "print(\"Determinant of a 2x2 matrix is :\",calc_determinant(A))"
   ]
  },
  {
   "cell_type": "code",
   "execution_count": 88,
   "metadata": {},
   "outputs": [
    {
     "name": "stdout",
     "output_type": "stream",
     "text": [
      "[[4, -2], [-3, 1]]\n"
     ]
    }
   ],
   "source": [
    "# Code a function that interchange the diagonal elements of\n",
    "# a 2x2 matrix and inverse the sign of the off diagonal elements\n",
    "\n",
    "def sign_inv(A):\n",
    "    A[0][0],A[1][1]=A[1][1],A[0][0]\n",
    "    A[0][1]=-A[0][1]\n",
    "    A[1][0]=-A[1][0]\n",
    "    return (A)\n",
    "\n",
    "print (sign_inv(A))"
   ]
  },
  {
   "cell_type": "code",
   "execution_count": 108,
   "metadata": {},
   "outputs": [
    {
     "name": "stdout",
     "output_type": "stream",
     "text": [
      "inverse not existed -------> Division by Zero \n",
      "\n",
      "[[0, 0], [0, 0]] \n",
      "\n",
      "\n",
      "inverse B : [[-2.0, 1.0], [1.5, -0.5]]\n"
     ]
    }
   ],
   "source": [
    "#Code a function to compute the inverse of 2x2 matrix based on the two previous functions if it exists\n",
    "A=[[1,2]\n",
    "  ,[3,6]]\n",
    "\n",
    "B=[[1,2]\n",
    "  ,[3,4]]\n",
    "def compute_inv(A):\n",
    "    det_A=calc_determinant(A)\n",
    "    A_adj=sign_inv(A)\n",
    "    A_inv=[[0,0],[0,0]]\n",
    "    try:\n",
    "        for i in range(len(A[0])):\n",
    "            for j in range (len(A[1])):\n",
    "                A_inv[i][j]=A_adj[i][j]/det_A\n",
    "    except:\n",
    "        print(\"inverse not existed -------> Division by Zero \\n\")\n",
    "    \n",
    "    return(A_inv)\n",
    "\n",
    "\n",
    "print (compute_inv(A),\"\\n\\n\")\n",
    "print (\"inverse B :\",compute_inv(B))"
   ]
  },
  {
   "cell_type": "markdown",
   "metadata": {},
   "source": [
    "### (2) Coding a Python code to inverse a 3x3 matrix in order to solve a linear system (no numpy.linalg.inv allowed) with 3 constraints and 3 variables:\n"
   ]
  },
  {
   "cell_type": "code",
   "execution_count": 1,
   "metadata": {},
   "outputs": [],
   "source": [
    "import numpy as np\n",
    "import matplotlib.pyplot as plt"
   ]
  },
  {
   "cell_type": "code",
   "execution_count": 23,
   "metadata": {},
   "outputs": [
    {
     "name": "stdout",
     "output_type": "stream",
     "text": [
      "matrix is not invertible ------> determinant is zero\n",
      "matrix is invertible ---------->  determinant is :  36\n"
     ]
    }
   ],
   "source": [
    "#Coding a function that checks if a 3x3 matrix is invertible\n",
    "A1=np.array([[1,2,3]\n",
    "            ,[4,5,6]\n",
    "            ,[7,8,9]])\n",
    "\n",
    "B=np.array([[1,2,3]\n",
    "           ,[4,2,6]\n",
    "           ,[7,8,9]])\n",
    "\n",
    "def calc_determinant(A):\n",
    "    tmp=[]\n",
    "    for j in range(len(A[0,:])):\n",
    "        Atemp=np.delete(A,j,1)          #delete row of selected element\n",
    "        Atemp=np.delete(Atemp,0,0)      #delete column of selected element\n",
    "        minor=(A[0][j]*((Atemp[0][0]*Atemp[1][1])-(Atemp[0][1]*Atemp[1][0])))\n",
    "        tmp.append(minor)\n",
    "    tmp[1]=-tmp[1]  # to make it add first then subtract the second then add the third basedd on co factors\n",
    "    return (sum(tmp))\n",
    "\n",
    "def invertible_check(x):\n",
    "    det=calc_determinant(x)\n",
    "\n",
    "    if det==0:\n",
    "        print(\"matrix is not invertible ------> determinant is zero\")\n",
    "    else :\n",
    "        print(\"matrix is invertible ---------->  determinant is : \" ,det)\n",
    "invertible_check(A1)\n",
    "invertible_check(B)\n"
   ]
  },
  {
   "cell_type": "code",
   "execution_count": 29,
   "metadata": {},
   "outputs": [
    {
     "data": {
      "text/plain": [
       "array([[1., 4., 7.],\n",
       "       [2., 5., 8.],\n",
       "       [3., 6., 9.]])"
      ]
     },
     "execution_count": 29,
     "metadata": {},
     "output_type": "execute_result"
    }
   ],
   "source": [
    "#Coding a function that generates the transpose of a 3x3 matrix\n",
    "A2=np.array([[1,2,3]\n",
    "  ,[4,5,6]\n",
    "   ,[7,8,9]])\n",
    "\n",
    "\n",
    "def transpose(A):\n",
    "    A_trans=np.zeros([3,3])\n",
    "    for i in range(len(A[0,:])):\n",
    "        for j in range(len(A[:,1])):\n",
    "            A_trans[i][j]=A[j][i]\n",
    "    return(A_trans)\n",
    "\n",
    "\n",
    "transpose(A2)"
   ]
  },
  {
   "cell_type": "code",
   "execution_count": 40,
   "metadata": {
    "scrolled": true
   },
   "outputs": [
    {
     "name": "stdout",
     "output_type": "stream",
     "text": [
      "[[ 10.  29.  18.]\n",
      " [ -6. -12.  -6.]\n",
      " [ -4. -11.  -6.]]\n"
     ]
    }
   ],
   "source": [
    "#Coding a function that generates the matrix of minors of a 3x3 matrix\n",
    "\n",
    "A3=np.array([[1,2,3]\n",
    "  ,[4,2,1]\n",
    "   ,[7,8,9]])\n",
    "\n",
    "def arr_minors(A):\n",
    "    A_minors=np.zeros([3,3])\n",
    "    for i in range(len(A[:,0])):\n",
    "        for j in range(len(A[0,:])):\n",
    "            Atemp=np.delete(A,j,1)          #delete row of selected element\n",
    "            Atemp=np.delete(Atemp,i,0)      #delete column of selected element\n",
    "            minor=((Atemp[0][0]*Atemp[1][1])-(Atemp[0][1]*Atemp[1][0]))\n",
    "            A_minors[i][j]=minor\n",
    "    return(A_minors)\n",
    "\n",
    "A4=arr_minors(A3)\n",
    "\n",
    "print(A4)"
   ]
  },
  {
   "cell_type": "code",
   "execution_count": 41,
   "metadata": {},
   "outputs": [
    {
     "data": {
      "text/plain": [
       "array([[ 10., -29.,  18.],\n",
       "       [  6., -12.,   6.],\n",
       "       [ -4.,  11.,  -6.]])"
      ]
     },
     "execution_count": 41,
     "metadata": {},
     "output_type": "execute_result"
    }
   ],
   "source": [
    "# Coding a function that generates the matrix of cofactors of a 3x3 matrix\n",
    "\n",
    "def cofactor(A):\n",
    "    arr=np.array([[1,-1,1]   #array of cofactors\n",
    "         ,[-1,1,-1]\n",
    "         ,[1,-1,1]])\n",
    "\n",
    "    return (A*arr)\n",
    "\n",
    "\n",
    "cofactor(A4)\n",
    "    "
   ]
  },
  {
   "cell_type": "code",
   "execution_count": 44,
   "metadata": {},
   "outputs": [
    {
     "data": {
      "text/plain": [
       "array([[ 1.66666667,  1.        , -0.66666667],\n",
       "       [-4.83333333, -2.        ,  1.83333333],\n",
       "       [ 3.        ,  1.        , -1.        ]])"
      ]
     },
     "execution_count": 44,
     "metadata": {},
     "output_type": "execute_result"
    }
   ],
   "source": [
    "# Coding a function that generates the inverse of a 3x3 matrix if it exists\n",
    "A5=np.array([[1,2,3]\n",
    "           ,[4,2,1]\n",
    "           ,[7,8,9]])\n",
    "def inv(X):\n",
    "    det=calc_determinant(X)  #determinant of matrix\n",
    "    X=arr_minors(X)    #array of minors\n",
    "    X=cofactor(X)# cofactors\n",
    "    X=transpose(X) #transpose\n",
    "    X=X/det  #divide adjucate matrix by the determinant\n",
    "    return(X)\n",
    "\n",
    "inv(A5)"
   ]
  },
  {
   "cell_type": "code",
   "execution_count": null,
   "metadata": {},
   "outputs": [],
   "source": []
  }
 ],
 "metadata": {
  "kernelspec": {
   "display_name": "Python 3",
   "language": "python",
   "name": "python3"
  },
  "language_info": {
   "codemirror_mode": {
    "name": "ipython",
    "version": 3
   },
   "file_extension": ".py",
   "mimetype": "text/x-python",
   "name": "python",
   "nbconvert_exporter": "python",
   "pygments_lexer": "ipython3",
   "version": "3.8.5"
  }
 },
 "nbformat": 4,
 "nbformat_minor": 4
}
