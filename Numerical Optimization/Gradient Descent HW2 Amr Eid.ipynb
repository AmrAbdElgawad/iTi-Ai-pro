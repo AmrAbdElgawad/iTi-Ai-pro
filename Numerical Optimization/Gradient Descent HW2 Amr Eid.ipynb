{
 "cells": [
  {
   "cell_type": "code",
   "execution_count": 1,
   "metadata": {},
   "outputs": [],
   "source": [
    "import numpy as np\n",
    "import random\n",
    "import matplotlib.pyplot as plt\n",
    "import sklearn.metrics as sk\n"
   ]
  },
  {
   "cell_type": "code",
   "execution_count": 2,
   "metadata": {},
   "outputs": [],
   "source": [
    "def gradientDescent(x,y_actual,learning_rate,itr):\n",
    "    theta0=random.randrange(1,3)\n",
    "    theta1=random.randrange(1,3)\n",
    "    x=np.array(x)\n",
    "    for i in range(itr):\n",
    "        y_actual=np.array(y_actual)\n",
    "        y_predictd=theta0+x.dot(theta1)\n",
    "        loss = np.square(y_predictd-y_actual)\n",
    "        cost = np.sum(loss)/(2*len(x))\n",
    "        gradient_theta0=(learning_rate/len(x))*np.sum((y_predictd-y_actual))\n",
    "        gradient_theta1=(learning_rate/len(x))*np.sum(np.dot((y_predictd-y_actual),x))\n",
    "        theta0=theta0-gradient_theta0\n",
    "        theta1=theta1-gradient_theta1\n",
    "    return theta0,theta1,cost,y_predictd"
   ]
  },
  {
   "cell_type": "code",
   "execution_count": 3,
   "metadata": {},
   "outputs": [],
   "source": [
    "X=[1,1,2,3,4,5,6,7,8,9,10,11]\n",
    "y_actual=[1,2,3,1,4,5,6,4,7,10,15,9]\n",
    "lr_rate=0.001\n",
    "outputs=gradientDescent(X,y_actual,lr_rate,10000)\n"
   ]
  },
  {
   "cell_type": "code",
   "execution_count": 4,
   "metadata": {},
   "outputs": [
    {
     "name": "stdout",
     "output_type": "stream",
     "text": [
      "Theta0 is : -0.11926318766894056 Theta1 is : 1.025548958356801 cost is : 1.9099103094260517\n"
     ]
    }
   ],
   "source": [
    "outputs=list(outputs)\n",
    "print(\"Theta0 is :\",outputs[0],\"Theta1 is :\",outputs[1],\"cost is :\",outputs[2])"
   ]
  },
  {
   "cell_type": "code",
   "execution_count": 5,
   "metadata": {},
   "outputs": [
    {
     "data": {
      "text/plain": [
       "Text(0.5, 1.0, 'Gradient Descent Linear regression')"
      ]
     },
     "execution_count": 5,
     "metadata": {},
     "output_type": "execute_result"
    },
    {
     "data": {
      "image/png": "[encoded data removed]",
      "text/plain": [
       "<Figure size 432x288 with 1 Axes>"
      ]
     },
     "metadata": {
      "needs_background": "light"
     },
     "output_type": "display_data"
    }
   ],
   "source": [
    " #plotting the results\n",
    "%matplotlib inline\n",
    "\n",
    "plt.scatter(X,y_actual, color='black')\n",
    "plt.plot(X,outputs[3])\n",
    "plt.gca().set_title(\"Gradient Descent Linear regression\")"
   ]
  },
  {
   "cell_type": "code",
   "execution_count": 6,
   "metadata": {},
   "outputs": [
    {
     "name": "stdout",
     "output_type": "stream",
     "text": [
      "the R2Score is :  0.757364724695764\n"
     ]
    }
   ],
   "source": [
    "#score\n",
    "score=sk.r2_score(y_actual,outputs[3])\n",
    "print(\"the R2Score is : \",score)"
   ]
  },
  {
   "cell_type": "code",
   "execution_count": null,
   "metadata": {},
   "outputs": [],
   "source": []
  }
 ],
 "metadata": {
  "kernelspec": {
   "display_name": "Python 3",
   "language": "python",
   "name": "python3"
  },
  "language_info": {
   "codemirror_mode": {
    "name": "ipython",
    "version": 3
   },
   "file_extension": ".py",
   "mimetype": "text/x-python",
   "name": "python",
   "nbconvert_exporter": "python",
   "pygments_lexer": "ipython3",
   "version": "3.8.5"
  }
 },
 "nbformat": 4,
 "nbformat_minor": 4
}
