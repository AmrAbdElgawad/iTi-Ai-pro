{
 "cells": [
  {
   "cell_type": "code",
   "execution_count": 42,
   "metadata": {},
   "outputs": [],
   "source": [
    "from sympy import *"
   ]
  },
  {
   "cell_type": "code",
   "execution_count": 69,
   "metadata": {},
   "outputs": [],
   "source": [
    "def cal_newton(equation,x0):\n",
    "    print(\"The Equation is :\",equation)\n",
    "    print(\"X0 value is : \",x0)\n",
    "    x=Symbol('x')\n",
    "    equ1=eval(equation)\n",
    "    equ=lambdify(x,equation)\n",
    "    eq_drevative=equ1.diff(x)\n",
    "    eq_drev=lambdify(x,eq_drevative)\n",
    "    n=0\n",
    "    equ_x0=10000\n",
    "    print(\"N  | X  |F(X)|F'(X)\")\n",
    "    \n",
    "    while True:\n",
    "        \n",
    "        n+=1\n",
    "        equ_x0=equ(x0)\n",
    "        if abs(equ_x0)<=0.0000011:\n",
    "            print(\"\\n the final X is :\",round(x0,6),\"The f(X) value is : \",round(equ_x0,6),\" The f'(X) value is : \",round(eq_drev_x0,6))\n",
    "            break\n",
    "        eq_drev_x0=eq_drev(x0)\n",
    "        print(n,\" |\",round(x0,6),\" |\",round(equ_x0,6),\"|\",round(eq_drev_x0,6))\n",
    "        x1=x0-(equ_x0/eq_drev_x0)\n",
    "        x0=x1\n"
   ]
  },
  {
   "cell_type": "code",
   "execution_count": 72,
   "metadata": {},
   "outputs": [
    {
     "name": "stdout",
     "output_type": "stream",
     "text": [
      "enter the equation : x**3-x**2-15*x+1\n",
      "enter X04.5\n",
      "The Equation is : x**3-x**2-15*x+1\n",
      "X0 value is :  4.5\n",
      "N  | X  |F(X)|F'(X)\n",
      "1  | 4.5  | 4.375 | 36.75\n",
      "2  | 4.380952  | 0.175467 | 33.816327\n",
      "3  | 4.375764  | 0.000327 | 33.690393\n",
      "\n",
      " the final X is : 4.375754 The f(X) value is :  0.0  The f'(X) value is :  33.690393\n"
     ]
    }
   ],
   "source": [
    "equ =input (\"enter the equation: \")\n",
    "x0=float(input(\"enter X0\"))\n",
    "cal_newton(equ,x0)"
   ]
  }
 ],
 "metadata": {
  "kernelspec": {
   "display_name": "Python 3",
   "language": "python",
   "name": "python3"
  },
  "language_info": {
   "codemirror_mode": {
    "name": "ipython",
    "version": 3
   },
   "file_extension": ".py",
   "mimetype": "text/x-python",
   "name": "python",
   "nbconvert_exporter": "python",
   "pygments_lexer": "ipython3",
   "version": "3.8.5"
  }
 },
 "nbformat": 4,
 "nbformat_minor": 4
}
